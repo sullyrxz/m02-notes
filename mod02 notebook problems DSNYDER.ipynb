{
 "cells": [
  {
   "cell_type": "code",
   "execution_count": 7,
   "id": "10f14bec",
   "metadata": {},
   "outputs": [
    {
     "name": "stdout",
     "output_type": "stream",
     "text": [
      "too low\n"
     ]
    }
   ],
   "source": [
    "secret = 5\n",
    "guess = 8\n",
    "if guess > secret:\n",
    "    print(\"too low\")\n",
    "elif guess < secret:\n",
    "    print(\"too high\")\n",
    "elif guess == secret:\n",
    "    print(\"just right\")\n",
    "else:\n",
    "    quit()"
   ]
  },
  {
   "cell_type": "code",
   "execution_count": 10,
   "id": "8bf4edc5",
   "metadata": {},
   "outputs": [
    {
     "name": "stdout",
     "output_type": "stream",
     "text": [
      "\n",
      "cherry is small.\n",
      "\n",
      "pea is small.\n",
      "\n",
      "pea is green.\n",
      "\n",
      "watermelon is green.\n"
     ]
    }
   ],
   "source": [
    "small = [\"cherry\", \"pea\"]\n",
    "green = [\"pea\", \"watermelon\"]\n",
    "objects = [\"cherry\", \"pea\", \"watermelon\", \"pumpkin\"]\n",
    "for obj in objects:\n",
    "    if obj in small:\n",
    "        print(\"\\n\"+obj+\" is small.\")\n",
    "    if obj in green:\n",
    "        print(\"\\n\"+obj+\" is green.\")"
   ]
  },
  {
   "cell_type": "code",
   "execution_count": 13,
   "id": "66b08f2e",
   "metadata": {},
   "outputs": [
    {
     "name": "stdout",
     "output_type": "stream",
     "text": [
      "\n",
      "3\n",
      "\n",
      "2\n",
      "\n",
      "1\n",
      "\n",
      "0\n"
     ]
    }
   ],
   "source": [
    "number = [3, 2, 1, 0]\n",
    "for num in number:\n",
    "    print(f'\\n{num}')"
   ]
  },
  {
   "cell_type": "code",
   "execution_count": 16,
   "id": "4e532f83",
   "metadata": {},
   "outputs": [
    {
     "name": "stdout",
     "output_type": "stream",
     "text": [
      "too low\n",
      "too low\n",
      "too low\n",
      "too low\n",
      "too low\n",
      "too low\n",
      "found it!\n"
     ]
    }
   ],
   "source": [
    "guess_me = 7\n",
    "number = 1\n",
    "while number != 8:\n",
    "    if number < guess_me:\n",
    "        print(\"too low\")\n",
    "    elif number == guess_me:\n",
    "        print(\"found it!\")\n",
    "        break\n",
    "    elif number > guess_me:\n",
    "        print(\"oops\")\n",
    "        break\n",
    "    number += 1\n",
    "\n"
   ]
  },
  {
   "cell_type": "code",
   "execution_count": 17,
   "id": "0a2e0acd",
   "metadata": {},
   "outputs": [
    {
     "name": "stdout",
     "output_type": "stream",
     "text": [
      "too low\n",
      "too low\n",
      "too low\n",
      "too low\n",
      "too low\n",
      "found it\n"
     ]
    }
   ],
   "source": [
    "guess_me = 5\n",
    "for number in range(10):\n",
    "    if number < guess_me:\n",
    "        print(\"too low\")\n",
    "    elif number == guess_me:\n",
    "        print(\"found it\")\n",
    "        break\n",
    "    elif number > guess_me:\n",
    "        print(\"oops\")\n",
    "        break"
   ]
  },
  {
   "cell_type": "code",
   "execution_count": null,
   "id": "a0e76d6a",
   "metadata": {},
   "outputs": [],
   "source": []
  }
 ],
 "metadata": {
  "kernelspec": {
   "display_name": "Python 3 (ipykernel)",
   "language": "python",
   "name": "python3"
  },
  "language_info": {
   "codemirror_mode": {
    "name": "ipython",
    "version": 3
   },
   "file_extension": ".py",
   "mimetype": "text/x-python",
   "name": "python",
   "nbconvert_exporter": "python",
   "pygments_lexer": "ipython3",
   "version": "3.11.5"
  }
 },
 "nbformat": 4,
 "nbformat_minor": 5
}
